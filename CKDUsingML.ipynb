{
 "cells": [
  {
   "cell_type": "markdown",
   "id": "55a5b2b2-0263-4eca-a55e-afe5590739b5",
   "metadata": {
    "scrolled": true
   },
   "source": [
    "## Importing libraries"
   ]
  },
  {
   "cell_type": "code",
   "execution_count": 3,
   "id": "fed6a92e-a023-4c5e-bd33-b7a8ca38adf5",
   "metadata": {},
   "outputs": [],
   "source": [
    "import pandas as pd"
   ]
  },
  {
   "cell_type": "code",
   "execution_count": 4,
   "id": "8877a642-7f8e-4746-a296-f6cc26c96ae6",
   "metadata": {},
   "outputs": [],
   "source": [
    "#Reading the .csv data \n",
    "data = pd.read_csv(\"N:\\DATA FILES\\HTNDM_202301Q.csv\", low_memory=False)"
   ]
  },
  {
   "cell_type": "code",
   "execution_count": 5,
   "id": "06cf64c6-2a32-4069-9646-fb98204e84c0",
   "metadata": {},
   "outputs": [
    {
     "data": {
      "text/html": [
       "<div>\n",
       "<style scoped>\n",
       "    .dataframe tbody tr th:only-of-type {\n",
       "        vertical-align: middle;\n",
       "    }\n",
       "\n",
       "    .dataframe tbody tr th {\n",
       "        vertical-align: top;\n",
       "    }\n",
       "\n",
       "    .dataframe thead th {\n",
       "        text-align: right;\n",
       "    }\n",
       "</style>\n",
       "<table border=\"1\" class=\"dataframe\">\n",
       "  <thead>\n",
       "    <tr style=\"text-align: right;\">\n",
       "      <th></th>\n",
       "      <th>mbi_id_orig</th>\n",
       "      <th>DOS</th>\n",
       "      <th>ACCESSION_NUMBER</th>\n",
       "      <th>REQUISITION_NUMBER</th>\n",
       "      <th>LAB_CODE</th>\n",
       "      <th>DATE_OF_COLLECTION</th>\n",
       "      <th>EXTERNAL_PAT_ID</th>\n",
       "      <th>PAT_STATE</th>\n",
       "      <th>PAT_ZIP</th>\n",
       "      <th>DATE_OF_BIRTH</th>\n",
       "      <th>...</th>\n",
       "      <th>DERIVED_ABNORMAL_FLAG</th>\n",
       "      <th>CPT_CODE</th>\n",
       "      <th>COMM_TEXT</th>\n",
       "      <th>ORDERING_SITE_CODE</th>\n",
       "      <th>Elig_Member_Id</th>\n",
       "      <th>npi</th>\n",
       "      <th>unique_linker</th>\n",
       "      <th>DM</th>\n",
       "      <th>HTN</th>\n",
       "      <th>DM_HTN</th>\n",
       "    </tr>\n",
       "  </thead>\n",
       "  <tbody>\n",
       "    <tr>\n",
       "      <th>0</th>\n",
       "      <td>1A02AU0GA19</td>\n",
       "      <td>20230118</td>\n",
       "      <td>WC987960U</td>\n",
       "      <td>96073</td>\n",
       "      <td>NEL</td>\n",
       "      <td>20230118.0</td>\n",
       "      <td>318581</td>\n",
       "      <td>CT</td>\n",
       "      <td>6002.0</td>\n",
       "      <td>19500802</td>\n",
       "      <td>...</td>\n",
       "      <td>NaN</td>\n",
       "      <td>82310</td>\n",
       "      <td>NaN</td>\n",
       "      <td>G3O</td>\n",
       "      <td>1A02AU0GA19</td>\n",
       "      <td>1.043484e+09</td>\n",
       "      <td>1A02AU0GA191A02AU0GA19</td>\n",
       "      <td>0</td>\n",
       "      <td>1</td>\n",
       "      <td>NaN</td>\n",
       "    </tr>\n",
       "    <tr>\n",
       "      <th>1</th>\n",
       "      <td>1A02AU0GA19</td>\n",
       "      <td>20230118</td>\n",
       "      <td>WC987960U</td>\n",
       "      <td>96073</td>\n",
       "      <td>NEL</td>\n",
       "      <td>20230118.0</td>\n",
       "      <td>318581</td>\n",
       "      <td>CT</td>\n",
       "      <td>6002.0</td>\n",
       "      <td>19500802</td>\n",
       "      <td>...</td>\n",
       "      <td>L</td>\n",
       "      <td>84443</td>\n",
       "      <td>NaN</td>\n",
       "      <td>G3O</td>\n",
       "      <td>1A02AU0GA19</td>\n",
       "      <td>1.043484e+09</td>\n",
       "      <td>1A02AU0GA191A02AU0GA19</td>\n",
       "      <td>0</td>\n",
       "      <td>1</td>\n",
       "      <td>NaN</td>\n",
       "    </tr>\n",
       "    <tr>\n",
       "      <th>2</th>\n",
       "      <td>1A17KC1AE43</td>\n",
       "      <td>20230107</td>\n",
       "      <td>CF851457L</td>\n",
       "      <td>524246</td>\n",
       "      <td>PAW</td>\n",
       "      <td>20230105.0</td>\n",
       "      <td>2055620</td>\n",
       "      <td>NY</td>\n",
       "      <td>11789.0</td>\n",
       "      <td>19551121</td>\n",
       "      <td>...</td>\n",
       "      <td>NaN</td>\n",
       "      <td>83970</td>\n",
       "      <td>Interpretive Guide    Intact PTH           Cal...</td>\n",
       "      <td>Z99</td>\n",
       "      <td>1A17KC1AE43</td>\n",
       "      <td>1.841397e+09</td>\n",
       "      <td>1A17KC1AE431A17KC1AE43</td>\n",
       "      <td>1</td>\n",
       "      <td>1</td>\n",
       "      <td>1.0</td>\n",
       "    </tr>\n",
       "    <tr>\n",
       "      <th>3</th>\n",
       "      <td>1A21Y74TH17</td>\n",
       "      <td>20221231</td>\n",
       "      <td>CF543987L</td>\n",
       "      <td>263362</td>\n",
       "      <td>PAW</td>\n",
       "      <td>20221230.0</td>\n",
       "      <td>E78783971</td>\n",
       "      <td>NJ</td>\n",
       "      <td>7747.0</td>\n",
       "      <td>19551014</td>\n",
       "      <td>...</td>\n",
       "      <td>NaN</td>\n",
       "      <td>U0003</td>\n",
       "      <td>A Not Detected result means that SARS-CoV-2 RN...</td>\n",
       "      <td>Z99</td>\n",
       "      <td>1A21Y74TH17</td>\n",
       "      <td>1.457973e+09</td>\n",
       "      <td>1A21Y74TH171A21Y74TH17</td>\n",
       "      <td>0</td>\n",
       "      <td>1</td>\n",
       "      <td>NaN</td>\n",
       "    </tr>\n",
       "    <tr>\n",
       "      <th>4</th>\n",
       "      <td>1A24KC7UX79</td>\n",
       "      <td>20230120</td>\n",
       "      <td>PZ905044B</td>\n",
       "      <td>65102</td>\n",
       "      <td>PIT</td>\n",
       "      <td>20230120.0</td>\n",
       "      <td>E00182198</td>\n",
       "      <td>OH</td>\n",
       "      <td>44512.0</td>\n",
       "      <td>19450319</td>\n",
       "      <td>...</td>\n",
       "      <td>NaN</td>\n",
       "      <td>80061</td>\n",
       "      <td>NaN</td>\n",
       "      <td>TJY</td>\n",
       "      <td>1A24KC7UX79</td>\n",
       "      <td>1.972580e+09</td>\n",
       "      <td>1A24KC7UX791A24KC7UX79</td>\n",
       "      <td>1</td>\n",
       "      <td>0</td>\n",
       "      <td>NaN</td>\n",
       "    </tr>\n",
       "  </tbody>\n",
       "</table>\n",
       "<p>5 rows × 52 columns</p>\n",
       "</div>"
      ],
      "text/plain": [
       "   mbi_id_orig       DOS ACCESSION_NUMBER REQUISITION_NUMBER LAB_CODE  \\\n",
       "0  1A02AU0GA19  20230118        WC987960U              96073      NEL   \n",
       "1  1A02AU0GA19  20230118        WC987960U              96073      NEL   \n",
       "2  1A17KC1AE43  20230107        CF851457L             524246      PAW   \n",
       "3  1A21Y74TH17  20221231        CF543987L             263362      PAW   \n",
       "4  1A24KC7UX79  20230120        PZ905044B              65102      PIT   \n",
       "\n",
       "   DATE_OF_COLLECTION EXTERNAL_PAT_ID PAT_STATE  PAT_ZIP  DATE_OF_BIRTH  ...  \\\n",
       "0          20230118.0          318581        CT   6002.0       19500802  ...   \n",
       "1          20230118.0          318581        CT   6002.0       19500802  ...   \n",
       "2          20230105.0         2055620        NY  11789.0       19551121  ...   \n",
       "3          20221230.0       E78783971        NJ   7747.0       19551014  ...   \n",
       "4          20230120.0       E00182198        OH  44512.0       19450319  ...   \n",
       "\n",
       "   DERIVED_ABNORMAL_FLAG CPT_CODE  \\\n",
       "0                    NaN    82310   \n",
       "1                      L    84443   \n",
       "2                    NaN    83970   \n",
       "3                    NaN    U0003   \n",
       "4                    NaN    80061   \n",
       "\n",
       "                                           COMM_TEXT ORDERING_SITE_CODE  \\\n",
       "0                                                NaN                G3O   \n",
       "1                                                NaN                G3O   \n",
       "2  Interpretive Guide    Intact PTH           Cal...                Z99   \n",
       "3  A Not Detected result means that SARS-CoV-2 RN...                Z99   \n",
       "4                                                NaN                TJY   \n",
       "\n",
       "  Elig_Member_Id           npi           unique_linker DM HTN DM_HTN  \n",
       "0    1A02AU0GA19  1.043484e+09  1A02AU0GA191A02AU0GA19  0   1    NaN  \n",
       "1    1A02AU0GA19  1.043484e+09  1A02AU0GA191A02AU0GA19  0   1    NaN  \n",
       "2    1A17KC1AE43  1.841397e+09  1A17KC1AE431A17KC1AE43  1   1    1.0  \n",
       "3    1A21Y74TH17  1.457973e+09  1A21Y74TH171A21Y74TH17  0   1    NaN  \n",
       "4    1A24KC7UX79  1.972580e+09  1A24KC7UX791A24KC7UX79  1   0    NaN  \n",
       "\n",
       "[5 rows x 52 columns]"
      ]
     },
     "execution_count": 5,
     "metadata": {},
     "output_type": "execute_result"
    }
   ],
   "source": [
    "#First few lines of data\n",
    "data.head()"
   ]
  },
  {
   "cell_type": "code",
   "execution_count": 6,
   "id": "839ef11c-8b73-4062-b81f-78e116283638",
   "metadata": {},
   "outputs": [
    {
     "data": {
      "text/plain": [
       "mbi_id_orig\n",
       "5HR3K45NH90    377\n",
       "4J76AR0TP67    324\n",
       "8X66DV4NV71    215\n",
       "3PN9W90GV25    210\n",
       "7ET9H60XR46    204\n",
       "              ... \n",
       "3V29MD8FA41      1\n",
       "6FE0HT2DN02      1\n",
       "3UP9P46HX30      1\n",
       "3UK3UK0JW83      1\n",
       "4G71WX9PH92      1\n",
       "Name: count, Length: 5684, dtype: int64"
      ]
     },
     "execution_count": 6,
     "metadata": {},
     "output_type": "execute_result"
    }
   ],
   "source": [
    "data.mbi_id_orig.value_counts()"
   ]
  },
  {
   "cell_type": "code",
   "execution_count": 12,
   "id": "3f03df95-d3a7-4d3b-ac6a-71b1d77d637e",
   "metadata": {},
   "outputs": [
    {
     "data": {
      "text/plain": [
       "dtype('O')"
      ]
     },
     "execution_count": 12,
     "metadata": {},
     "output_type": "execute_result"
    }
   ],
   "source": [
    "data.CPT_CODE.dtypes"
   ]
  },
  {
   "cell_type": "markdown",
   "id": "08b694ce-6c79-4ecc-98dd-d68b36d035cf",
   "metadata": {},
   "source": [
    "### Data Description"
   ]
  },
  {
   "cell_type": "code",
   "execution_count": 2,
   "id": "a505f0fd-8afe-4bc4-bfad-01b9686ea080",
   "metadata": {},
   "outputs": [],
   "source": [
    "##### This dataset is generated from Quest, a major U.S. medical laboratory. The set contains:-\n",
    "\n",
    "##### 1) mbi_id_orig = Medicare Beneficiary unique patient identifiers.\n",
    "\n",
    "##### 2) DOS = dates of service and collection.\n",
    "\n",
    "##### 3) Accession_Number = A unique identifier of the submitted Report.\n",
    "\n",
    "##### 4) Requisition Number =  A requisition number serves as a unique identifier for tracking purposes. \n",
    "\n",
    "##### 5) Lab_Code = Code for the lab.\n",
    "\n",
    "##### 6) Date_of_collection = The date on which the sample was collected for the test.\n",
    "\n",
    "##### 7) External_Pat_ID = External Patient ID that identifies a record in the original data source.\n",
    "\n",
    "##### 8) Pat_State = Patient's State.\n",
    "\n",
    "##### 9) Pat_Zip = Patient's Zip code.\n",
    "\n",
    "##### 10) Date_of_Birth = Patient's Date of birth.\n",
    "\n",
    "##### 11) Age = Patient's Age.\n",
    "\n",
    "##### 12) Gender = Patient's Gender.\n",
    "\n",
    "##### 13) Bill_Code = Billing Code.\n",
    "\n",
    "##### 14) Policy_Number = Patient's policy number, which is a unique identifier assigned to an insurance policy that helps the insurer track the insured’s coverage.\n",
    "\n",
    "##### 15) Medicaid = Medicaid provides health coverage to millions of Americans, including eligible low-income adults, children, pregnant women, elderly adults and people with disabilities.  Medicaid is administered by states, according to federal requirements.  The program is funded jointly by states and the federal government.\n",
    "\n",
    "##### 16) Medicare = Your Medicare card has a unique number that’s distinct from your Social Security Number. This helps protect your identity.\n",
    "\n",
    "##### 17) Medicaid_No = Health Coverage Number for the Patient provided by federal government. \n",
    "\n",
    "##### 18) Medicare_No = Patient's Medicare number, which is a unique number, that helps protect their identity.\n",
    "\n",
    "##### 19) Phy_Name = Name of the Physician.\n",
    "\n",
    "##### 20) UPIN = Unique Physician Identification Number (A UPIN is a six-position alphanumeric identifier that is assigned to all Medicare physicians, medical groups and non-physician practitioners.)\n",
    "\n",
    "##### 21) DIAG_CODE1 to DIAG_CODE10 = (ICD-10 Code - The International Classification of Diseases, Tenth Revision (ICD-10) is used by healthcare providers to classify and code every disease, symptom, and injury to submit insurance claims or prior authorizations. ICD-10 codes consist of up to seven characters that classify medical diagnoses in a specific way. The first three characters—a letter and two numbers—classify the disease or health conditio. After the first three characters is a period. The next three numbers describe the cause of the disease, how severe it is, or where in the body it is located (including whether it is on the left side, right side, or boEach ICD-10 code starts with a capital letter from A to Z, The letters broadly categorize the nature of the diagnosis. For example: - E means: Endocrine, nutritional, or metabolict.\n",
    "\n",
    "##### 22) Local_Profile_Code = Unknown.\n",
    "\n",
    "##### 23) Standard_Profile_Code = Unknown.\n",
    "\n",
    "##### 24) Profile_Name = Profile Name is a comprehensive summary of health-related information for an individual patient.\n",
    "\n",
    "##### 25) Local_Order_Code = Unknown.\n",
    "\n",
    "##### 26) Standard_Order_Code = Unknown.\n",
    "\n",
    "##### 27) Order_Name = May be name of the Test that needs to be performed.\n",
    "\n",
    "##### 28) LOINC_Code = LOINC is a code system (i.e., set of identifiers, names, and codes) for clinical and laboratory observations, health care screening/survey instruments, and document type identifiers. Each LOINC record corresponds to a single observation of almost any type (i.e., observables) and is best known for concepts that represent laboratory tests. The LOINC code for a name is unique and permanent. Systems should always transmit LOINC codes with a hyphen before the check digit (e.g., 10154-3) and transmit the numeric code as a variable length number, without leading zeros.\n",
    "\n",
    "##### 29) Local_Result_Code = Test result code.\n",
    "\n",
    "##### 30) Result_Name = Test result name.\n",
    "\n",
    "##### 31) Result_Value_A = Test result Value.\n",
    "\n",
    "##### 32) Units = Test results unit of measurements.\n",
    "\n",
    "##### 33) Ref_Range_Low = low reference range for \"normal\" results.\n",
    "\n",
    "##### 34) Ref_Range_High = high reference range for \"normal\" results.\n",
    "\n",
    "##### 35) Ref_Range_Alpha = reference ranges for \"normal\" results.\n",
    "\n",
    "##### 36) Derived_Abnormal_Flag = It tells if the lab values or result values are out of the normal range. (H= High, L=Low and A=Abnormal).\n",
    "\n",
    "##### 37) CPT_Code = Current Procedural Terminology (CPT) codes are standardized terms and codes used by healthcare providers to describe and report medical procedures and services.CPT codes can be either numeric or alphanumeric and are five digits long. To add more information about a procedure, modifiers can be used, which are two-digit codes that may indicate the complexity of the service or note what part of the service was performed.\n",
    "\n",
    "##### 38) COMM-TEXT = Comments.\n",
    "\n",
    "##### 39) Ordering_Site_Code = Ordering Site Codes are used to specify the location or entity where a medical service was rendered. These codes are essential for accurate billing and reimbursement.\n",
    "\n",
    "##### 40) Elig_Member_Id = Eligible Patient's Member Id, which is the member ID card (or health plan ID card) which prooves that you have health insurance.\n",
    "\n",
    "##### 41) npi = The National Provider Identifier (NPI) is a unique 10-digit number used to identify health care providers.\n",
    "\n",
    "##### 42) Unique_linker = Unknown.\n",
    "\n",
    "##### 43) DM = Diabetes Mellites or Diabetes.\n",
    "\n",
    "##### 44) HTN = Hypertension or high blood pressure.\n",
    "\n",
    "##### 45) DM-HTN = patients with both Diabetes Mellites or Diabetes and Hypertension or high blood pressure. . "
   ]
  },
  {
   "cell_type": "code",
   "execution_count": 60,
   "id": "31701cfe-8620-4e7d-aa4c-699dc78eb45d",
   "metadata": {},
   "outputs": [
    {
     "ename": "ValueError",
     "evalue": "not enough values to unpack (expected 2, got 1)",
     "output_type": "error",
     "traceback": [
      "\u001b[1;31m---------------------------------------------------------------------------\u001b[0m",
      "\u001b[1;31mValueError\u001b[0m                                Traceback (most recent call last)",
      "Cell \u001b[1;32mIn[60], line 2\u001b[0m\n\u001b[0;32m      1\u001b[0m \u001b[38;5;66;03m#Finding the shape of data\u001b[39;00m\n\u001b[1;32m----> 2\u001b[0m rows, cols \u001b[38;5;241m=\u001b[39m data\u001b[38;5;241m.\u001b[39mshape\n\u001b[0;32m      3\u001b[0m \u001b[38;5;28mprint\u001b[39m(\u001b[38;5;124m\"\u001b[39m\u001b[38;5;124mRows: \u001b[39m\u001b[38;5;124m\"\u001b[39m \u001b[38;5;241m+\u001b[39m \u001b[38;5;28mstr\u001b[39m(rows) \u001b[38;5;241m+\u001b[39m \u001b[38;5;124m\"\u001b[39m\u001b[38;5;130;01m\\n\u001b[39;00m\u001b[38;5;124mColumns: \u001b[39m\u001b[38;5;124m\"\u001b[39m \u001b[38;5;241m+\u001b[39m \u001b[38;5;28mstr\u001b[39m(cols) )\n",
      "\u001b[1;31mValueError\u001b[0m: not enough values to unpack (expected 2, got 1)"
     ]
    }
   ],
   "source": [
    "#Finding the shape of data\n",
    "rows, cols = data.shape\n",
    "print(\"Rows: \" + str(rows) + \"\\nColumns: \" + str(cols) )"
   ]
  },
  {
   "cell_type": "code",
   "execution_count": 61,
   "id": "cae9ca49-ed0a-4be3-900c-60d7defc68fc",
   "metadata": {},
   "outputs": [
    {
     "ename": "AttributeError",
     "evalue": "'numpy.ndarray' object has no attribute 'dtypes'",
     "output_type": "error",
     "traceback": [
      "\u001b[1;31m---------------------------------------------------------------------------\u001b[0m",
      "\u001b[1;31mAttributeError\u001b[0m                            Traceback (most recent call last)",
      "Cell \u001b[1;32mIn[61], line 2\u001b[0m\n\u001b[0;32m      1\u001b[0m \u001b[38;5;66;03m#Chceking the data types of the columns\u001b[39;00m\n\u001b[1;32m----> 2\u001b[0m data\u001b[38;5;241m.\u001b[39mdtypes\n",
      "\u001b[1;31mAttributeError\u001b[0m: 'numpy.ndarray' object has no attribute 'dtypes'"
     ]
    }
   ],
   "source": [
    "#Chceking the data types of the columns\n",
    "data.dtypes"
   ]
  },
  {
   "cell_type": "code",
   "execution_count": 62,
   "id": "52660873-5237-4611-b479-0e167e3f0c71",
   "metadata": {},
   "outputs": [
    {
     "ename": "AttributeError",
     "evalue": "'numpy.ndarray' object has no attribute 'describe'",
     "output_type": "error",
     "traceback": [
      "\u001b[1;31m---------------------------------------------------------------------------\u001b[0m",
      "\u001b[1;31mAttributeError\u001b[0m                            Traceback (most recent call last)",
      "Cell \u001b[1;32mIn[62], line 2\u001b[0m\n\u001b[0;32m      1\u001b[0m \u001b[38;5;66;03m#Describing the data\u001b[39;00m\n\u001b[1;32m----> 2\u001b[0m data\u001b[38;5;241m.\u001b[39mdescribe()\n",
      "\u001b[1;31mAttributeError\u001b[0m: 'numpy.ndarray' object has no attribute 'describe'"
     ]
    }
   ],
   "source": [
    "#Describing the data\n",
    "data.describe()"
   ]
  },
  {
   "cell_type": "code",
   "execution_count": 63,
   "id": "38110845-6c57-49c0-8bde-65db24db511a",
   "metadata": {},
   "outputs": [
    {
     "ename": "AttributeError",
     "evalue": "'numpy.ndarray' object has no attribute 'columns'",
     "output_type": "error",
     "traceback": [
      "\u001b[1;31m---------------------------------------------------------------------------\u001b[0m",
      "\u001b[1;31mAttributeError\u001b[0m                            Traceback (most recent call last)",
      "Cell \u001b[1;32mIn[63], line 2\u001b[0m\n\u001b[0;32m      1\u001b[0m \u001b[38;5;66;03m#Checking all the columns\u001b[39;00m\n\u001b[1;32m----> 2\u001b[0m data\u001b[38;5;241m.\u001b[39mcolumns\n",
      "\u001b[1;31mAttributeError\u001b[0m: 'numpy.ndarray' object has no attribute 'columns'"
     ]
    }
   ],
   "source": [
    "#Checking all the columns\n",
    "data.columns"
   ]
  },
  {
   "cell_type": "markdown",
   "id": "de014acc-7088-47de-9b92-b92806265e4c",
   "metadata": {},
   "source": [
    "## Data Pre-processing or Cleaning the data"
   ]
  },
  {
   "cell_type": "code",
   "execution_count": 9,
   "id": "f24d684b-056f-473e-a321-7577c96d3475",
   "metadata": {},
   "outputs": [
    {
     "data": {
      "text/plain": [
       "0        2023-01-18\n",
       "1        2023-01-18\n",
       "2        2023-01-07\n",
       "3        2022-12-31\n",
       "4        2023-01-20\n",
       "            ...    \n",
       "160901   2022-12-31\n",
       "160902   2023-01-05\n",
       "160903   2023-01-13\n",
       "160904   2023-01-13\n",
       "160905   2023-01-13\n",
       "Name: DOS, Length: 160906, dtype: datetime64[ns]"
      ]
     },
     "execution_count": 9,
     "metadata": {},
     "output_type": "execute_result"
    }
   ],
   "source": [
    "#Changing the format of the date columns, as the given date format is not easy to read.\n",
    "\n",
    "#Changing the format of DOS.\n",
    "from datetime import datetime\n",
    "\n",
    "data['DOS'] =  pd.to_datetime(data['DOS'],format='%Y%m%d')\n",
    "data.DOS"
   ]
  },
  {
   "cell_type": "code",
   "execution_count": 10,
   "id": "9e85efb3-a661-4891-a645-50ec32501eb6",
   "metadata": {},
   "outputs": [
    {
     "data": {
      "text/plain": [
       "0        2023-01-18\n",
       "1        2023-01-18\n",
       "2        2023-01-05\n",
       "3        2022-12-30\n",
       "4        2023-01-20\n",
       "            ...    \n",
       "160901   2022-12-29\n",
       "160902   2023-01-04\n",
       "160903   2023-01-13\n",
       "160904   2023-01-13\n",
       "160905   2023-01-13\n",
       "Name: DATE_OF_COLLECTION, Length: 160906, dtype: datetime64[ns]"
      ]
     },
     "execution_count": 10,
     "metadata": {},
     "output_type": "execute_result"
    }
   ],
   "source": [
    "#Changing the format of Date of Collecion.\n",
    "data['DATE_OF_COLLECTION'] =  pd.to_datetime(data['DATE_OF_COLLECTION'],format='%Y%m%d')\n",
    "data.DATE_OF_COLLECTION"
   ]
  },
  {
   "cell_type": "code",
   "execution_count": 11,
   "id": "07e4c290-6a82-415e-b73a-31cd6e19a14c",
   "metadata": {},
   "outputs": [
    {
     "data": {
      "text/plain": [
       "0        1950-08-02\n",
       "1        1950-08-02\n",
       "2        1955-11-21\n",
       "3        1955-10-14\n",
       "4        1945-03-19\n",
       "            ...    \n",
       "160901   1938-11-29\n",
       "160902   1934-02-01\n",
       "160903   1941-09-11\n",
       "160904   1941-09-11\n",
       "160905   1941-09-11\n",
       "Name: DATE_OF_BIRTH, Length: 160906, dtype: datetime64[ns]"
      ]
     },
     "execution_count": 11,
     "metadata": {},
     "output_type": "execute_result"
    }
   ],
   "source": [
    "#Changing the format of Date of Birth.\n",
    "data['DATE_OF_BIRTH'] =  pd.to_datetime(data['DATE_OF_BIRTH'],format='%Y%m%d')\n",
    "data.DATE_OF_BIRTH"
   ]
  },
  {
   "cell_type": "code",
   "execution_count": 137,
   "id": "aae04da3-cdc6-4663-b6e2-a2cf12ca0d1e",
   "metadata": {},
   "outputs": [],
   "source": [
    "# Removing Unwanted columns from the data.\n",
    "\n",
    "#ACCESSION_NUMBER, External_Pat_ID, Bill_Code, Policy_Number, Medicaid_No, Phy_Name, UPIN, Local_Profile_Code, Standard_Profile_Code, Profile_Name, Local_Order_Code, Standard_Order_Code,\n",
    "#Local_Result_Code, Units, Ref_Range_Alpha, COMM-TEXT, Ordering_Site_Code, Elig_Member_Id, Unique_linker\n",
    "\n",
    "data = data.drop(columns=[\"ACCESSION_NUMBER\",\"LAB_CODE\",\"EXTERNAL_PAT_ID\",\"BILL_CODE\",\"POLICY_NUMBER\",\"MEDICAID_NO\",\"PHY_NAME\",\"UPIN\",\"LOCAL_PROFILE_CODE\",\"STANDARD_PROFILE_CODE\",\"PROFILE_NAME\",\"LOCAL_ORDER_CODE\",\n",
    "                          \"STANDARD_ORDER_CODE\",\"LOCAL_RESULT_CODE\",\"UNITS\",\"REF_RANGE_ALPHA\",\"COMM_TEXT\",\"ORDERING_SITE_CODE\",\"Elig_Member_Id\",\"unique_linker\"])"
   ]
  },
  {
   "cell_type": "code",
   "execution_count": 138,
   "id": "cb4c4626-1c68-41e1-9af7-95a9e069bb53",
   "metadata": {},
   "outputs": [
    {
     "name": "stdout",
     "output_type": "stream",
     "text": [
      "Rows: 160906\n",
      "Columns: 32\n"
     ]
    }
   ],
   "source": [
    "#Checking the shape of the data again\n",
    "rows, cols = data.shape\n",
    "print(\"Rows: \" + str(rows) + \"\\nColumns: \" + str(cols) )"
   ]
  },
  {
   "cell_type": "code",
   "execution_count": 139,
   "id": "b4edf058-fb9a-4d3e-9c72-08500d6782be",
   "metadata": {},
   "outputs": [
    {
     "data": {
      "text/plain": [
       "Index(['mbi_id_orig', 'DOS', 'REQUISITION_NUMBER', 'DATE_OF_COLLECTION',\n",
       "       'PAT_STATE', 'PAT_ZIP', 'DATE_OF_BIRTH', 'AGE', 'GENDER', 'MEDICARE_NO',\n",
       "       'DIAG_CODE1', 'DIAG_CODE2', 'DIAG_CODE3', 'DIAG_CODE4', 'DIAG_CODE5',\n",
       "       'DIAG_CODE6', 'DIAG_CODE7', 'DIAG_CODE8', 'DIAG_CODE9', 'DIAG_CODE10',\n",
       "       'ORDER_NAME', 'LOINC_CODE', 'RESULT_NAME', 'RESULT_VALUE_A',\n",
       "       'REF_RANGE_LOW', 'REF_RANGE_HIGH', 'DERIVED_ABNORMAL_FLAG', 'CPT_CODE',\n",
       "       'npi', 'DM', 'HTN', 'DM_HTN'],\n",
       "      dtype='object')"
      ]
     },
     "execution_count": 139,
     "metadata": {},
     "output_type": "execute_result"
    }
   ],
   "source": [
    "#The final columns\n",
    "data.columns"
   ]
  },
  {
   "cell_type": "code",
   "execution_count": 140,
   "id": "16ce419e-888c-49c9-98fa-b0a2a0a31960",
   "metadata": {},
   "outputs": [
    {
     "data": {
      "text/html": [
       "<div>\n",
       "<style scoped>\n",
       "    .dataframe tbody tr th:only-of-type {\n",
       "        vertical-align: middle;\n",
       "    }\n",
       "\n",
       "    .dataframe tbody tr th {\n",
       "        vertical-align: top;\n",
       "    }\n",
       "\n",
       "    .dataframe thead th {\n",
       "        text-align: right;\n",
       "    }\n",
       "</style>\n",
       "<table border=\"1\" class=\"dataframe\">\n",
       "  <thead>\n",
       "    <tr style=\"text-align: right;\">\n",
       "      <th></th>\n",
       "      <th>mbi_id_orig</th>\n",
       "      <th>DOS</th>\n",
       "      <th>REQUISITION_NUMBER</th>\n",
       "      <th>DATE_OF_COLLECTION</th>\n",
       "      <th>PAT_STATE</th>\n",
       "      <th>PAT_ZIP</th>\n",
       "      <th>DATE_OF_BIRTH</th>\n",
       "      <th>AGE</th>\n",
       "      <th>GENDER</th>\n",
       "      <th>MEDICARE_NO</th>\n",
       "      <th>...</th>\n",
       "      <th>RESULT_NAME</th>\n",
       "      <th>RESULT_VALUE_A</th>\n",
       "      <th>REF_RANGE_LOW</th>\n",
       "      <th>REF_RANGE_HIGH</th>\n",
       "      <th>DERIVED_ABNORMAL_FLAG</th>\n",
       "      <th>CPT_CODE</th>\n",
       "      <th>npi</th>\n",
       "      <th>DM</th>\n",
       "      <th>HTN</th>\n",
       "      <th>DM_HTN</th>\n",
       "    </tr>\n",
       "  </thead>\n",
       "  <tbody>\n",
       "    <tr>\n",
       "      <th>0</th>\n",
       "      <td>1A02AU0GA19</td>\n",
       "      <td>2023-01-18</td>\n",
       "      <td>96073</td>\n",
       "      <td>2023-01-18</td>\n",
       "      <td>CT</td>\n",
       "      <td>6002.0</td>\n",
       "      <td>1950-08-02</td>\n",
       "      <td>72</td>\n",
       "      <td>F</td>\n",
       "      <td>1A02AU0GA19</td>\n",
       "      <td>...</td>\n",
       "      <td>CALCIUM</td>\n",
       "      <td>9.4</td>\n",
       "      <td>8.6</td>\n",
       "      <td>10.4</td>\n",
       "      <td>NaN</td>\n",
       "      <td>82310</td>\n",
       "      <td>1.043484e+09</td>\n",
       "      <td>0</td>\n",
       "      <td>1</td>\n",
       "      <td>NaN</td>\n",
       "    </tr>\n",
       "    <tr>\n",
       "      <th>1</th>\n",
       "      <td>1A02AU0GA19</td>\n",
       "      <td>2023-01-18</td>\n",
       "      <td>96073</td>\n",
       "      <td>2023-01-18</td>\n",
       "      <td>CT</td>\n",
       "      <td>6002.0</td>\n",
       "      <td>1950-08-02</td>\n",
       "      <td>72</td>\n",
       "      <td>F</td>\n",
       "      <td>1A02AU0GA19</td>\n",
       "      <td>...</td>\n",
       "      <td>TSH</td>\n",
       "      <td>0.03</td>\n",
       "      <td>0.4</td>\n",
       "      <td>4.5</td>\n",
       "      <td>L</td>\n",
       "      <td>84443</td>\n",
       "      <td>1.043484e+09</td>\n",
       "      <td>0</td>\n",
       "      <td>1</td>\n",
       "      <td>NaN</td>\n",
       "    </tr>\n",
       "    <tr>\n",
       "      <th>2</th>\n",
       "      <td>1A17KC1AE43</td>\n",
       "      <td>2023-01-07</td>\n",
       "      <td>524246</td>\n",
       "      <td>2023-01-05</td>\n",
       "      <td>NY</td>\n",
       "      <td>11789.0</td>\n",
       "      <td>1955-11-21</td>\n",
       "      <td>67</td>\n",
       "      <td>M</td>\n",
       "      <td>1A17KC1AE43</td>\n",
       "      <td>...</td>\n",
       "      <td>PARATHYROID HORMONE, INTACT</td>\n",
       "      <td>50</td>\n",
       "      <td>16.0</td>\n",
       "      <td>77.0</td>\n",
       "      <td>NaN</td>\n",
       "      <td>83970</td>\n",
       "      <td>1.841397e+09</td>\n",
       "      <td>1</td>\n",
       "      <td>1</td>\n",
       "      <td>1.0</td>\n",
       "    </tr>\n",
       "    <tr>\n",
       "      <th>3</th>\n",
       "      <td>1A21Y74TH17</td>\n",
       "      <td>2022-12-31</td>\n",
       "      <td>263362</td>\n",
       "      <td>2022-12-30</td>\n",
       "      <td>NJ</td>\n",
       "      <td>7747.0</td>\n",
       "      <td>1955-10-14</td>\n",
       "      <td>67</td>\n",
       "      <td>M</td>\n",
       "      <td>1A21Y74TH17</td>\n",
       "      <td>...</td>\n",
       "      <td>SARS CoV 2 RNA</td>\n",
       "      <td>NOT DETECTED</td>\n",
       "      <td>NaN</td>\n",
       "      <td>NaN</td>\n",
       "      <td>NaN</td>\n",
       "      <td>U0003</td>\n",
       "      <td>1.457973e+09</td>\n",
       "      <td>0</td>\n",
       "      <td>1</td>\n",
       "      <td>NaN</td>\n",
       "    </tr>\n",
       "    <tr>\n",
       "      <th>4</th>\n",
       "      <td>1A24KC7UX79</td>\n",
       "      <td>2023-01-20</td>\n",
       "      <td>65102</td>\n",
       "      <td>2023-01-20</td>\n",
       "      <td>OH</td>\n",
       "      <td>44512.0</td>\n",
       "      <td>1945-03-19</td>\n",
       "      <td>77</td>\n",
       "      <td>F</td>\n",
       "      <td>1A24KC7UX79</td>\n",
       "      <td>...</td>\n",
       "      <td>CHOLESTEROL, TOTAL</td>\n",
       "      <td>153</td>\n",
       "      <td>NaN</td>\n",
       "      <td>199.0</td>\n",
       "      <td>NaN</td>\n",
       "      <td>80061</td>\n",
       "      <td>1.972580e+09</td>\n",
       "      <td>1</td>\n",
       "      <td>0</td>\n",
       "      <td>NaN</td>\n",
       "    </tr>\n",
       "  </tbody>\n",
       "</table>\n",
       "<p>5 rows × 32 columns</p>\n",
       "</div>"
      ],
      "text/plain": [
       "   mbi_id_orig        DOS REQUISITION_NUMBER DATE_OF_COLLECTION PAT_STATE  \\\n",
       "0  1A02AU0GA19 2023-01-18              96073         2023-01-18        CT   \n",
       "1  1A02AU0GA19 2023-01-18              96073         2023-01-18        CT   \n",
       "2  1A17KC1AE43 2023-01-07             524246         2023-01-05        NY   \n",
       "3  1A21Y74TH17 2022-12-31             263362         2022-12-30        NJ   \n",
       "4  1A24KC7UX79 2023-01-20              65102         2023-01-20        OH   \n",
       "\n",
       "   PAT_ZIP DATE_OF_BIRTH  AGE GENDER  MEDICARE_NO  ...  \\\n",
       "0   6002.0    1950-08-02   72      F  1A02AU0GA19  ...   \n",
       "1   6002.0    1950-08-02   72      F  1A02AU0GA19  ...   \n",
       "2  11789.0    1955-11-21   67      M  1A17KC1AE43  ...   \n",
       "3   7747.0    1955-10-14   67      M  1A21Y74TH17  ...   \n",
       "4  44512.0    1945-03-19   77      F  1A24KC7UX79  ...   \n",
       "\n",
       "                   RESULT_NAME RESULT_VALUE_A REF_RANGE_LOW REF_RANGE_HIGH  \\\n",
       "0                      CALCIUM            9.4           8.6           10.4   \n",
       "1                          TSH           0.03           0.4            4.5   \n",
       "2  PARATHYROID HORMONE, INTACT             50          16.0           77.0   \n",
       "3               SARS CoV 2 RNA   NOT DETECTED           NaN            NaN   \n",
       "4           CHOLESTEROL, TOTAL            153           NaN          199.0   \n",
       "\n",
       "  DERIVED_ABNORMAL_FLAG CPT_CODE           npi DM HTN DM_HTN  \n",
       "0                   NaN    82310  1.043484e+09  0   1    NaN  \n",
       "1                     L    84443  1.043484e+09  0   1    NaN  \n",
       "2                   NaN    83970  1.841397e+09  1   1    1.0  \n",
       "3                   NaN    U0003  1.457973e+09  0   1    NaN  \n",
       "4                   NaN    80061  1.972580e+09  1   0    NaN  \n",
       "\n",
       "[5 rows x 32 columns]"
      ]
     },
     "execution_count": 140,
     "metadata": {},
     "output_type": "execute_result"
    }
   ],
   "source": [
    "data.head()"
   ]
  },
  {
   "cell_type": "code",
   "execution_count": 141,
   "id": "ea16842f-ab4b-491d-929a-08c9631c61a6",
   "metadata": {},
   "outputs": [
    {
     "data": {
      "text/plain": [
       "mbi_id_orig                      object\n",
       "DOS                      datetime64[ns]\n",
       "REQUISITION_NUMBER               object\n",
       "DATE_OF_COLLECTION       datetime64[ns]\n",
       "PAT_STATE                        object\n",
       "PAT_ZIP                         float64\n",
       "DATE_OF_BIRTH            datetime64[ns]\n",
       "AGE                               int64\n",
       "GENDER                           object\n",
       "MEDICARE_NO                      object\n",
       "DIAG_CODE1                       object\n",
       "DIAG_CODE2                       object\n",
       "DIAG_CODE3                       object\n",
       "DIAG_CODE4                       object\n",
       "DIAG_CODE5                       object\n",
       "DIAG_CODE6                       object\n",
       "DIAG_CODE7                       object\n",
       "DIAG_CODE8                       object\n",
       "DIAG_CODE9                       object\n",
       "DIAG_CODE10                      object\n",
       "ORDER_NAME                       object\n",
       "LOINC_CODE                       object\n",
       "RESULT_NAME                      object\n",
       "RESULT_VALUE_A                   object\n",
       "REF_RANGE_LOW                   float64\n",
       "REF_RANGE_HIGH                  float64\n",
       "DERIVED_ABNORMAL_FLAG            object\n",
       "CPT_CODE                         object\n",
       "npi                             float64\n",
       "DM                                int64\n",
       "HTN                               int64\n",
       "DM_HTN                          float64\n",
       "dtype: object"
      ]
     },
     "execution_count": 141,
     "metadata": {},
     "output_type": "execute_result"
    }
   ],
   "source": [
    "#Checking the data types again\n",
    "data.dtypes"
   ]
  },
  {
   "cell_type": "code",
   "execution_count": 142,
   "id": "ee716ccb-b54a-49fb-a4f6-92375face85c",
   "metadata": {},
   "outputs": [
    {
     "data": {
      "text/plain": [
       "mbi_id_orig                   0\n",
       "DOS                           0\n",
       "REQUISITION_NUMBER            0\n",
       "DATE_OF_COLLECTION         2091\n",
       "PAT_STATE                  2061\n",
       "PAT_ZIP                    2035\n",
       "DATE_OF_BIRTH                 0\n",
       "AGE                           0\n",
       "GENDER                        0\n",
       "MEDICARE_NO               16324\n",
       "DIAG_CODE1                 8314\n",
       "DIAG_CODE2                35911\n",
       "DIAG_CODE3                56426\n",
       "DIAG_CODE4                79021\n",
       "DIAG_CODE5               100515\n",
       "DIAG_CODE6               117000\n",
       "DIAG_CODE7               128302\n",
       "DIAG_CODE8               136483\n",
       "DIAG_CODE9               143514\n",
       "DIAG_CODE10              148764\n",
       "ORDER_NAME                   66\n",
       "LOINC_CODE                 2946\n",
       "RESULT_NAME                   2\n",
       "RESULT_VALUE_A             3052\n",
       "REF_RANGE_LOW             50758\n",
       "REF_RANGE_HIGH            39982\n",
       "DERIVED_ABNORMAL_FLAG    141116\n",
       "CPT_CODE                   9405\n",
       "npi                        2326\n",
       "DM                            0\n",
       "HTN                           0\n",
       "DM_HTN                   142980\n",
       "dtype: int64"
      ]
     },
     "execution_count": 142,
     "metadata": {},
     "output_type": "execute_result"
    }
   ],
   "source": [
    "#Checking the null values\n",
    "data.isnull().sum()"
   ]
  },
  {
   "cell_type": "markdown",
   "id": "5ea6ca38-881e-4248-b286-cc7677dc553d",
   "metadata": {},
   "source": []
  },
  {
   "cell_type": "code",
   "execution_count": 144,
   "id": "071ba8bf-88b7-4636-8171-9bee200d6b4d",
   "metadata": {},
   "outputs": [],
   "source": [
    "#Dropping all the null values from DATE_OF_COLLECTION column\n",
    "\n",
    "data = data.dropna(subset=['DATE_OF_COLLECTION'])"
   ]
  },
  {
   "cell_type": "code",
   "execution_count": 145,
   "id": "b7074997-0655-4df5-bf13-7f4045d12df8",
   "metadata": {},
   "outputs": [],
   "source": [
    "#Dropping all the null values from PAT_STATE column\n",
    "\n",
    "data = data.dropna(subset=['PAT_STATE'])"
   ]
  },
  {
   "cell_type": "code",
   "execution_count": 146,
   "id": "77f8c654-5ac5-4cd3-8350-6ece7934cc31",
   "metadata": {},
   "outputs": [],
   "source": [
    "#Dropping all the null values from PAT_ZIP column\n",
    "\n",
    "data = data.dropna(subset=['PAT_ZIP'])"
   ]
  },
  {
   "cell_type": "code",
   "execution_count": null,
   "id": "ca13bfd8-1606-49aa-b9db-6431cdec9efc",
   "metadata": {},
   "outputs": [],
   "source": [
    "#Replacing all the blank rows of DIAG_CODE1 to DIAG_CODE10 with N/A\n",
    "data['DIAG_CODE1'] = data['DIAG_CODE1'].fillna('N/A')\n",
    "data['DIAG_CODE2'] = data['DIAG_CODE2'].fillna('N/A')\n",
    "data['DIAG_CODE3'] = data['DIAG_CODE3'].fillna('N/A')\n",
    "data['DIAG_CODE4'] = data['DIAG_CODE4'].fillna('N/A')\n",
    "data['DIAG_CODE5'] = data['DIAG_CODE5'].fillna('N/A')\n",
    "data['DIAG_CODE6'] = data['DIAG_CODE6'].fillna('N/A')\n",
    "data['DIAG_CODE7'] = data['DIAG_CODE7'].fillna('N/A')\n",
    "data['DIAG_CODE8'] = data['DIAG_CODE8'].fillna('N/A')\n",
    "data['DIAG_CODE9'] = data['DIAG_CODE9'].fillna('N/A')\n",
    "data['DIAG_CODE10'] = data['DIAG_CODE10'].fillna('N/A')"
   ]
  },
  {
   "cell_type": "code",
   "execution_count": 147,
   "id": "aea35cf6-695e-4507-ad0f-483f0eed6d16",
   "metadata": {},
   "outputs": [],
   "source": [
    "#Dropping all the null values from ORDER_NAME column\n",
    "\n",
    "data = data.dropna(subset=['ORDER_NAME'])"
   ]
  },
  {
   "cell_type": "code",
   "execution_count": 148,
   "id": "7fc2f0f8-0154-4749-8f01-113b72baa5b8",
   "metadata": {},
   "outputs": [],
   "source": [
    "#Dropping all the null values from LOINC_CODE column\n",
    "\n",
    "data = data.dropna(subset=['LOINC_CODE'])"
   ]
  },
  {
   "cell_type": "code",
   "execution_count": 149,
   "id": "061740d6-4828-4c2f-83e5-90c36849bd55",
   "metadata": {},
   "outputs": [],
   "source": [
    "#Dropping all the null values from RESULT_NAME column\n",
    "\n",
    "data = data.dropna(subset=['RESULT_NAME'])"
   ]
  },
  {
   "cell_type": "code",
   "execution_count": 150,
   "id": "2f2bc4f9-8290-47a6-8078-58bf15f3b2e4",
   "metadata": {},
   "outputs": [],
   "source": [
    "#Dropping all the null values from RESULT_VALUE_A column\n",
    "\n",
    "data = data.dropna(subset=['RESULT_VALUE_A'])"
   ]
  },
  {
   "cell_type": "code",
   "execution_count": 151,
   "id": "0f45b66a-4e0f-4ee8-99cc-9ef2c7dd2ac7",
   "metadata": {},
   "outputs": [],
   "source": [
    "#Dropping all the null values from REF_RANGE_LOW column\n",
    "\n",
    "data = data.dropna(subset=['REF_RANGE_LOW'])"
   ]
  },
  {
   "cell_type": "code",
   "execution_count": 152,
   "id": "c2f93973-6f1b-4280-8677-a9bb774c767e",
   "metadata": {},
   "outputs": [],
   "source": [
    "#Dropping all the null values from REF_RANGE_HIGH column\n",
    "\n",
    "data = data.dropna(subset=['REF_RANGE_HIGH'])"
   ]
  },
  {
   "cell_type": "code",
   "execution_count": null,
   "id": "c243ba26-9d12-4ff3-a9fe-226f19ffceb9",
   "metadata": {},
   "outputs": [],
   "source": [
    "#Replacing all the null values of CPT_CODE with N/A\n",
    "data['CPT_CODE'] = data['CPT_CODE'].fillna('N/A')"
   ]
  },
  {
   "cell_type": "code",
   "execution_count": null,
   "id": "6a961e8e-2c90-465e-b93f-916061375701",
   "metadata": {},
   "outputs": [],
   "source": [
    "#Dropping all the null values from npi column\n",
    "data = data.dropna(subset=['npi'])"
   ]
  },
  {
   "cell_type": "code",
   "execution_count": 153,
   "id": "c6bcb0c4-d19a-4db2-a53d-4fd5673d78cc",
   "metadata": {},
   "outputs": [],
   "source": [
    "#Replacing all the blank rows of DM_HTN with 0\n",
    "data['DM_HTN'] = data['DM_HTN'].fillna(0)"
   ]
  },
  {
   "cell_type": "code",
   "execution_count": 156,
   "id": "bacf3f0d-983e-4667-9ffd-889e1a67845a",
   "metadata": {},
   "outputs": [
    {
     "data": {
      "text/plain": [
       "mbi_id_orig                  0\n",
       "DOS                          0\n",
       "REQUISITION_NUMBER           0\n",
       "DATE_OF_COLLECTION           0\n",
       "PAT_STATE                    0\n",
       "PAT_ZIP                      0\n",
       "DATE_OF_BIRTH                0\n",
       "AGE                          0\n",
       "GENDER                       0\n",
       "MEDICARE_NO               5927\n",
       "DIAG_CODE1                   0\n",
       "DIAG_CODE2                   0\n",
       "DIAG_CODE3                   0\n",
       "DIAG_CODE4                   0\n",
       "DIAG_CODE5                   0\n",
       "DIAG_CODE6                   0\n",
       "DIAG_CODE7                   0\n",
       "DIAG_CODE8                   0\n",
       "DIAG_CODE9                   0\n",
       "DIAG_CODE10                  0\n",
       "ORDER_NAME                   0\n",
       "LOINC_CODE                   0\n",
       "RESULT_NAME                  0\n",
       "RESULT_VALUE_A               0\n",
       "REF_RANGE_LOW                0\n",
       "REF_RANGE_HIGH               0\n",
       "DERIVED_ABNORMAL_FLAG    90345\n",
       "CPT_CODE                     0\n",
       "npi                          0\n",
       "DM                           0\n",
       "HTN                          0\n",
       "DM_HTN                       0\n",
       "dtype: int64"
      ]
     },
     "execution_count": 156,
     "metadata": {},
     "output_type": "execute_result"
    }
   ],
   "source": [
    "#Checking the null values again\n",
    "data.isnull().sum()"
   ]
  },
  {
   "cell_type": "markdown",
   "id": "7c40e905-ad42-41e8-bd82-81a4cf154539",
   "metadata": {},
   "source": [
    "## Datatypes"
   ]
  },
  {
   "cell_type": "code",
   "execution_count": 157,
   "id": "021d5a86-e7a3-4c2e-9e84-018a0da4471a",
   "metadata": {},
   "outputs": [
    {
     "data": {
      "text/plain": [
       "mbi_id_orig                      object\n",
       "DOS                      datetime64[ns]\n",
       "REQUISITION_NUMBER               object\n",
       "DATE_OF_COLLECTION       datetime64[ns]\n",
       "PAT_STATE                        object\n",
       "PAT_ZIP                         float64\n",
       "DATE_OF_BIRTH            datetime64[ns]\n",
       "AGE                               int64\n",
       "GENDER                           object\n",
       "MEDICARE_NO                      object\n",
       "DIAG_CODE1                       object\n",
       "DIAG_CODE2                       object\n",
       "DIAG_CODE3                       object\n",
       "DIAG_CODE4                       object\n",
       "DIAG_CODE5                       object\n",
       "DIAG_CODE6                       object\n",
       "DIAG_CODE7                       object\n",
       "DIAG_CODE8                       object\n",
       "DIAG_CODE9                       object\n",
       "DIAG_CODE10                      object\n",
       "ORDER_NAME                       object\n",
       "LOINC_CODE                       object\n",
       "RESULT_NAME                      object\n",
       "RESULT_VALUE_A                   object\n",
       "REF_RANGE_LOW                   float64\n",
       "REF_RANGE_HIGH                  float64\n",
       "DERIVED_ABNORMAL_FLAG            object\n",
       "CPT_CODE                         object\n",
       "npi                             float64\n",
       "DM                                int64\n",
       "HTN                               int64\n",
       "DM_HTN                          float64\n",
       "dtype: object"
      ]
     },
     "execution_count": 157,
     "metadata": {},
     "output_type": "execute_result"
    }
   ],
   "source": [
    "#Checking the datatypes\n",
    "data.dtypes"
   ]
  },
  {
   "cell_type": "code",
   "execution_count": 161,
   "id": "ee042c79-20b2-44d3-a3dd-89c2a63a1b22",
   "metadata": {},
   "outputs": [],
   "source": [
    "#converting the datatypes\n",
    "\n",
    "#Coverting REQUISITION_NUMBER into Integer\n",
    "data[\"REQUISITION_NUMBER\"] = data[\"REQUISITION_NUMBER\"].astype(int)\n",
    "\n",
    "#Coverting PAT_ZIP into Integer\n",
    "data[\"PAT_ZIP\"] = data[\"PAT_ZIP\"].astype(int)\n",
    "\n",
    "#Coverting npi into Integer\n",
    "data[\"npi\"] = data[\"npi\"].astype(int)\n",
    "\n",
    "#Coverting DM_HTN into Integer\n",
    "data[\"DM_HTN\"] = data[\"DM_HTN\"].astype(int)"
   ]
  },
  {
   "cell_type": "code",
   "execution_count": 162,
   "id": "c6f4d8d1-c26f-4512-a5be-b8afbe68a329",
   "metadata": {},
   "outputs": [
    {
     "data": {
      "text/plain": [
       "mbi_id_orig                      object\n",
       "DOS                      datetime64[ns]\n",
       "REQUISITION_NUMBER                int32\n",
       "DATE_OF_COLLECTION       datetime64[ns]\n",
       "PAT_STATE                        object\n",
       "PAT_ZIP                           int32\n",
       "DATE_OF_BIRTH            datetime64[ns]\n",
       "AGE                               int64\n",
       "GENDER                           object\n",
       "MEDICARE_NO                      object\n",
       "DIAG_CODE1                       object\n",
       "DIAG_CODE2                       object\n",
       "DIAG_CODE3                       object\n",
       "DIAG_CODE4                       object\n",
       "DIAG_CODE5                       object\n",
       "DIAG_CODE6                       object\n",
       "DIAG_CODE7                       object\n",
       "DIAG_CODE8                       object\n",
       "DIAG_CODE9                       object\n",
       "DIAG_CODE10                      object\n",
       "ORDER_NAME                       object\n",
       "LOINC_CODE                       object\n",
       "RESULT_NAME                      object\n",
       "RESULT_VALUE_A                   object\n",
       "REF_RANGE_LOW                   float64\n",
       "REF_RANGE_HIGH                  float64\n",
       "DERIVED_ABNORMAL_FLAG            object\n",
       "CPT_CODE                         object\n",
       "npi                               int32\n",
       "DM                                int64\n",
       "HTN                               int64\n",
       "DM_HTN                            int32\n",
       "dtype: object"
      ]
     },
     "execution_count": 162,
     "metadata": {},
     "output_type": "execute_result"
    }
   ],
   "source": [
    "data.dtypes"
   ]
  },
  {
   "cell_type": "code",
   "execution_count": 231,
   "id": "e7d36a6e-7f54-4621-8dc9-4234332a6e09",
   "metadata": {},
   "outputs": [],
   "source": [
    "#Converting RESULT_VALUE_A object type column into float\n",
    "#data['RESULT_VALUE_A'] = data['RESULT_VALUE_A'].replace('NOT APPLICABLE', '', regex=True)\n",
    "\n",
    "\n",
    "data = data[data[\"RESULT_VALUE_A\"].str.contains(\"NOT APPLICABLE|YELLOW|CLEAR|NEGATIVE|Nonreactive|<1|0-5|NONE SEEN|< OR = 5.0|0-2|>2000|40-60|<3|<0.01|TNP/124|> OR = 60|10-Jun|10-Mar|TNP/945|20-Oct|PACKED|TNP/637|TNP/564|<5|TNP/130|TNP/117|<0.1|NOTE|<4|<0.7|<0.2|20-40|TNP/1746|TNP/121|TNP/154|TNP/317|<6|> OR = 9.0|>130|TNP/109|>60|TNP/202|TNP/202|TNP/152|TNP/1220|>300|<0.5|TNP/521|<8|TNP/120|> OR = 1.045|TNP/563|TNP/220|<20|TNP/1849\")==False]\n",
    "\n",
    "data[\"RESULT_VALUE_A\"] = data[\"RESULT_VALUE_A\"].astype(float)"
   ]
  },
  {
   "cell_type": "code",
   "execution_count": null,
   "id": "106af744-d9e5-4427-9aa2-42a6179b208c",
   "metadata": {},
   "outputs": [],
   "source": [
    "#Convert these columns into Categorical columns - Gender, DERIVED_ABNORMAL_FLAG     \n",
    "\n",
    "#Alphanumeric columns are - mbi_id_orig, MEDICARE_NO, DIAG_CODE1 - DIAG_CODE10, CPT_CODE\n",
    "# Character columns - PAT_STATE and RESULT_NAME "
   ]
  },
  {
   "cell_type": "code",
   "execution_count": 233,
   "id": "0dd0908d-82b0-4e3a-b0ce-94236eb489de",
   "metadata": {},
   "outputs": [
    {
     "data": {
      "text/html": [
       "<div>\n",
       "<style scoped>\n",
       "    .dataframe tbody tr th:only-of-type {\n",
       "        vertical-align: middle;\n",
       "    }\n",
       "\n",
       "    .dataframe tbody tr th {\n",
       "        vertical-align: top;\n",
       "    }\n",
       "\n",
       "    .dataframe thead th {\n",
       "        text-align: right;\n",
       "    }\n",
       "</style>\n",
       "<table border=\"1\" class=\"dataframe\">\n",
       "  <thead>\n",
       "    <tr style=\"text-align: right;\">\n",
       "      <th></th>\n",
       "      <th>mbi_id_orig</th>\n",
       "      <th>DOS</th>\n",
       "      <th>REQUISITION_NUMBER</th>\n",
       "      <th>DATE_OF_COLLECTION</th>\n",
       "      <th>PAT_STATE</th>\n",
       "      <th>PAT_ZIP</th>\n",
       "      <th>DATE_OF_BIRTH</th>\n",
       "      <th>AGE</th>\n",
       "      <th>GENDER</th>\n",
       "      <th>MEDICARE_NO</th>\n",
       "      <th>...</th>\n",
       "      <th>RESULT_NAME</th>\n",
       "      <th>RESULT_VALUE_A</th>\n",
       "      <th>REF_RANGE_LOW</th>\n",
       "      <th>REF_RANGE_HIGH</th>\n",
       "      <th>DERIVED_ABNORMAL_FLAG</th>\n",
       "      <th>CPT_CODE</th>\n",
       "      <th>npi</th>\n",
       "      <th>DM</th>\n",
       "      <th>HTN</th>\n",
       "      <th>DM_HTN</th>\n",
       "    </tr>\n",
       "  </thead>\n",
       "  <tbody>\n",
       "    <tr>\n",
       "      <th>0</th>\n",
       "      <td>1A02AU0GA19</td>\n",
       "      <td>2023-01-18</td>\n",
       "      <td>96073</td>\n",
       "      <td>2023-01-18</td>\n",
       "      <td>CT</td>\n",
       "      <td>6002</td>\n",
       "      <td>1950-08-02</td>\n",
       "      <td>72</td>\n",
       "      <td>F</td>\n",
       "      <td>1A02AU0GA19</td>\n",
       "      <td>...</td>\n",
       "      <td>CALCIUM</td>\n",
       "      <td>9.40</td>\n",
       "      <td>8.6</td>\n",
       "      <td>10.4</td>\n",
       "      <td>NaN</td>\n",
       "      <td>82310</td>\n",
       "      <td>1043484264</td>\n",
       "      <td>0</td>\n",
       "      <td>1</td>\n",
       "      <td>0</td>\n",
       "    </tr>\n",
       "    <tr>\n",
       "      <th>1</th>\n",
       "      <td>1A02AU0GA19</td>\n",
       "      <td>2023-01-18</td>\n",
       "      <td>96073</td>\n",
       "      <td>2023-01-18</td>\n",
       "      <td>CT</td>\n",
       "      <td>6002</td>\n",
       "      <td>1950-08-02</td>\n",
       "      <td>72</td>\n",
       "      <td>F</td>\n",
       "      <td>1A02AU0GA19</td>\n",
       "      <td>...</td>\n",
       "      <td>TSH</td>\n",
       "      <td>0.03</td>\n",
       "      <td>0.4</td>\n",
       "      <td>4.5</td>\n",
       "      <td>L</td>\n",
       "      <td>84443</td>\n",
       "      <td>1043484264</td>\n",
       "      <td>0</td>\n",
       "      <td>1</td>\n",
       "      <td>0</td>\n",
       "    </tr>\n",
       "    <tr>\n",
       "      <th>2</th>\n",
       "      <td>1A17KC1AE43</td>\n",
       "      <td>2023-01-07</td>\n",
       "      <td>524246</td>\n",
       "      <td>2023-01-05</td>\n",
       "      <td>NY</td>\n",
       "      <td>11789</td>\n",
       "      <td>1955-11-21</td>\n",
       "      <td>67</td>\n",
       "      <td>M</td>\n",
       "      <td>1A17KC1AE43</td>\n",
       "      <td>...</td>\n",
       "      <td>PARATHYROID HORMONE, INTACT</td>\n",
       "      <td>50.00</td>\n",
       "      <td>16.0</td>\n",
       "      <td>77.0</td>\n",
       "      <td>NaN</td>\n",
       "      <td>83970</td>\n",
       "      <td>1841396546</td>\n",
       "      <td>1</td>\n",
       "      <td>1</td>\n",
       "      <td>1</td>\n",
       "    </tr>\n",
       "    <tr>\n",
       "      <th>10</th>\n",
       "      <td>1A24KC7UX79</td>\n",
       "      <td>2023-01-20</td>\n",
       "      <td>65102</td>\n",
       "      <td>2023-01-20</td>\n",
       "      <td>OH</td>\n",
       "      <td>44512</td>\n",
       "      <td>1945-03-19</td>\n",
       "      <td>77</td>\n",
       "      <td>F</td>\n",
       "      <td>1A24KC7UX79</td>\n",
       "      <td>...</td>\n",
       "      <td>GLUCOSE</td>\n",
       "      <td>149.00</td>\n",
       "      <td>65.0</td>\n",
       "      <td>139.0</td>\n",
       "      <td>H</td>\n",
       "      <td>80053</td>\n",
       "      <td>1972579928</td>\n",
       "      <td>1</td>\n",
       "      <td>0</td>\n",
       "      <td>0</td>\n",
       "    </tr>\n",
       "    <tr>\n",
       "      <th>11</th>\n",
       "      <td>1A24KC7UX79</td>\n",
       "      <td>2023-01-20</td>\n",
       "      <td>65102</td>\n",
       "      <td>2023-01-20</td>\n",
       "      <td>OH</td>\n",
       "      <td>44512</td>\n",
       "      <td>1945-03-19</td>\n",
       "      <td>77</td>\n",
       "      <td>F</td>\n",
       "      <td>1A24KC7UX79</td>\n",
       "      <td>...</td>\n",
       "      <td>UREA NITROGEN (BUN)</td>\n",
       "      <td>27.00</td>\n",
       "      <td>7.0</td>\n",
       "      <td>25.0</td>\n",
       "      <td>H</td>\n",
       "      <td>80053</td>\n",
       "      <td>1972579928</td>\n",
       "      <td>1</td>\n",
       "      <td>0</td>\n",
       "      <td>0</td>\n",
       "    </tr>\n",
       "  </tbody>\n",
       "</table>\n",
       "<p>5 rows × 32 columns</p>\n",
       "</div>"
      ],
      "text/plain": [
       "    mbi_id_orig        DOS  REQUISITION_NUMBER DATE_OF_COLLECTION PAT_STATE  \\\n",
       "0   1A02AU0GA19 2023-01-18               96073         2023-01-18        CT   \n",
       "1   1A02AU0GA19 2023-01-18               96073         2023-01-18        CT   \n",
       "2   1A17KC1AE43 2023-01-07              524246         2023-01-05        NY   \n",
       "10  1A24KC7UX79 2023-01-20               65102         2023-01-20        OH   \n",
       "11  1A24KC7UX79 2023-01-20               65102         2023-01-20        OH   \n",
       "\n",
       "    PAT_ZIP DATE_OF_BIRTH  AGE GENDER  MEDICARE_NO  ...  \\\n",
       "0      6002    1950-08-02   72      F  1A02AU0GA19  ...   \n",
       "1      6002    1950-08-02   72      F  1A02AU0GA19  ...   \n",
       "2     11789    1955-11-21   67      M  1A17KC1AE43  ...   \n",
       "10    44512    1945-03-19   77      F  1A24KC7UX79  ...   \n",
       "11    44512    1945-03-19   77      F  1A24KC7UX79  ...   \n",
       "\n",
       "                    RESULT_NAME RESULT_VALUE_A REF_RANGE_LOW REF_RANGE_HIGH  \\\n",
       "0                       CALCIUM           9.40           8.6           10.4   \n",
       "1                           TSH           0.03           0.4            4.5   \n",
       "2   PARATHYROID HORMONE, INTACT          50.00          16.0           77.0   \n",
       "10                      GLUCOSE         149.00          65.0          139.0   \n",
       "11          UREA NITROGEN (BUN)          27.00           7.0           25.0   \n",
       "\n",
       "   DERIVED_ABNORMAL_FLAG CPT_CODE         npi DM HTN DM_HTN  \n",
       "0                    NaN    82310  1043484264  0   1      0  \n",
       "1                      L    84443  1043484264  0   1      0  \n",
       "2                    NaN    83970  1841396546  1   1      1  \n",
       "10                     H    80053  1972579928  1   0      0  \n",
       "11                     H    80053  1972579928  1   0      0  \n",
       "\n",
       "[5 rows x 32 columns]"
      ]
     },
     "execution_count": 233,
     "metadata": {},
     "output_type": "execute_result"
    }
   ],
   "source": [
    "data.head()"
   ]
  },
  {
   "cell_type": "code",
   "execution_count": null,
   "id": "24b7dddb-b256-448d-87e8-ca582f4189a1",
   "metadata": {},
   "outputs": [],
   "source": []
  },
  {
   "cell_type": "code",
   "execution_count": null,
   "id": "37c1ecbc-17dc-41e9-9f44-af6206439664",
   "metadata": {},
   "outputs": [],
   "source": []
  },
  {
   "cell_type": "code",
   "execution_count": null,
   "id": "b53dafee-f563-4bd6-8435-89a9b4f5401d",
   "metadata": {},
   "outputs": [],
   "source": []
  },
  {
   "cell_type": "code",
   "execution_count": null,
   "id": "53cf11e4-ef0a-4045-859e-c0eb5285442d",
   "metadata": {},
   "outputs": [],
   "source": []
  },
  {
   "cell_type": "code",
   "execution_count": null,
   "id": "6b6e794f-a212-4795-8ac8-be03f4bc6b4a",
   "metadata": {},
   "outputs": [],
   "source": []
  },
  {
   "cell_type": "code",
   "execution_count": null,
   "id": "f8b1b137-14da-4e3b-9b8b-d257ef725f5a",
   "metadata": {},
   "outputs": [],
   "source": []
  }
 ],
 "metadata": {
  "kernelspec": {
   "display_name": "Python 3 (ipykernel)",
   "language": "python",
   "name": "python3"
  },
  "language_info": {
   "codemirror_mode": {
    "name": "ipython",
    "version": 3
   },
   "file_extension": ".py",
   "mimetype": "text/x-python",
   "name": "python",
   "nbconvert_exporter": "python",
   "pygments_lexer": "ipython3",
   "version": "3.12.4"
  }
 },
 "nbformat": 4,
 "nbformat_minor": 5
}
